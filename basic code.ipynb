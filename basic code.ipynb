{
 "cells": [
  {
   "cell_type": "code",
   "execution_count": 1,
   "metadata": {},
   "outputs": [],
   "source": [
    "import pandas as pd\n",
    "import datetime"
   ]
  },
  {
   "cell_type": "code",
   "execution_count": 2,
   "metadata": {},
   "outputs": [
    {
     "name": "stdout",
     "output_type": "stream",
     "text": [
      "2020-09-04 23:50:01.350962\n"
     ]
    }
   ],
   "source": [
    "x = datetime.datetime.now()\n",
    "print(x)"
   ]
  },
  {
   "cell_type": "code",
   "execution_count": 3,
   "metadata": {},
   "outputs": [
    {
     "name": "stdout",
     "output_type": "stream",
     "text": [
      "4 9 2020\n"
     ]
    }
   ],
   "source": [
    "print(x.day, x.month, x.year)"
   ]
  },
  {
   "cell_type": "code",
   "execution_count": 4,
   "metadata": {},
   "outputs": [
    {
     "name": "stdout",
     "output_type": "stream",
     "text": [
      "Friday\n"
     ]
    }
   ],
   "source": [
    "print(x.strftime(\"%A\"))"
   ]
  },
  {
   "cell_type": "code",
   "execution_count": 5,
   "metadata": {},
   "outputs": [
    {
     "name": "stdout",
     "output_type": "stream",
     "text": [
      "2020-05-17 00:00:00\n"
     ]
    }
   ],
   "source": [
    "y = datetime.datetime(2020, 5, 17)\n",
    "print(y)"
   ]
  },
  {
   "cell_type": "code",
   "execution_count": 6,
   "metadata": {},
   "outputs": [],
   "source": [
    "course = {\n",
    "    'ID' : ['ID1', 'ID2', 'ID3', 'ID4'],\n",
    "    'Name' : ['S1', 'S2', 'S3', 'S4'],\n",
    "    'Prof' : ['Dr. A', 'Dr. B', 'Dr. C', 'Dr. D']\n",
    "}"
   ]
  },
  {
   "cell_type": "code",
   "execution_count": 7,
   "metadata": {},
   "outputs": [],
   "source": [
    "cdf = pd.DataFrame(course, columns=['ID','Name','Prof'])"
   ]
  },
  {
   "cell_type": "code",
   "execution_count": 8,
   "metadata": {},
   "outputs": [
    {
     "data": {
      "text/html": [
       "<div>\n",
       "<style scoped>\n",
       "    .dataframe tbody tr th:only-of-type {\n",
       "        vertical-align: middle;\n",
       "    }\n",
       "\n",
       "    .dataframe tbody tr th {\n",
       "        vertical-align: top;\n",
       "    }\n",
       "\n",
       "    .dataframe thead th {\n",
       "        text-align: right;\n",
       "    }\n",
       "</style>\n",
       "<table border=\"1\" class=\"dataframe\">\n",
       "  <thead>\n",
       "    <tr style=\"text-align: right;\">\n",
       "      <th></th>\n",
       "      <th>ID</th>\n",
       "      <th>Name</th>\n",
       "      <th>Prof</th>\n",
       "    </tr>\n",
       "  </thead>\n",
       "  <tbody>\n",
       "    <tr>\n",
       "      <th>0</th>\n",
       "      <td>ID1</td>\n",
       "      <td>S1</td>\n",
       "      <td>Dr. A</td>\n",
       "    </tr>\n",
       "    <tr>\n",
       "      <th>1</th>\n",
       "      <td>ID2</td>\n",
       "      <td>S2</td>\n",
       "      <td>Dr. B</td>\n",
       "    </tr>\n",
       "    <tr>\n",
       "      <th>2</th>\n",
       "      <td>ID3</td>\n",
       "      <td>S3</td>\n",
       "      <td>Dr. C</td>\n",
       "    </tr>\n",
       "    <tr>\n",
       "      <th>3</th>\n",
       "      <td>ID4</td>\n",
       "      <td>S4</td>\n",
       "      <td>Dr. D</td>\n",
       "    </tr>\n",
       "  </tbody>\n",
       "</table>\n",
       "</div>"
      ],
      "text/plain": [
       "    ID Name   Prof\n",
       "0  ID1   S1  Dr. A\n",
       "1  ID2   S2  Dr. B\n",
       "2  ID3   S3  Dr. C\n",
       "3  ID4   S4  Dr. D"
      ]
     },
     "execution_count": 8,
     "metadata": {},
     "output_type": "execute_result"
    }
   ],
   "source": [
    "cdf"
   ]
  },
  {
   "cell_type": "code",
   "execution_count": 9,
   "metadata": {},
   "outputs": [],
   "source": [
    "course1 = {\n",
    "    'videoID' : [1,2,3,4,5,6,7,8],\n",
    "    'status' : ['No','No','No','No','No','No','No','No']\n",
    "}\n",
    "course2 = {\n",
    "    'videoID' : [1,2,3,4,5,6,7,8],\n",
    "    'status' : ['No','No','No','No','No','No','No','No']\n",
    "}\n",
    "course3 = {\n",
    "    'videoID' : [1,2,3,4,5,6,7,8],\n",
    "    'status' : ['No','No','No','No','No','No','No','No']\n",
    "}\n",
    "course4 = {\n",
    "    'videoID' : [1,2,3,4,5,6,7,8],\n",
    "    'status' : ['No','No','No','No','No','No','No','No']\n",
    "}\n",
    "\n",
    "c1 = pd.DataFrame(course1)\n",
    "c2 = pd.DataFrame(course2)\n",
    "c3 = pd.DataFrame(course3)\n",
    "c4 = pd.DataFrame(course4)"
   ]
  },
  {
   "cell_type": "code",
   "execution_count": 10,
   "metadata": {},
   "outputs": [],
   "source": [
    "cdf['videos'] = [course1, course2, course3, course4]"
   ]
  },
  {
   "cell_type": "code",
   "execution_count": 11,
   "metadata": {},
   "outputs": [],
   "source": [
    "ass1 = {\n",
    "    'assID' : [1,2,3],\n",
    "    'status' : ['No','No','No'],\n",
    "    'dep' : [2,5,7],\n",
    "    'deadline' : [datetime.datetime(2020, 9, 12),\n",
    "                  datetime.datetime(2020, 9, 25),\n",
    "                  datetime.datetime(2020, 10, 1)]\n",
    "}\n",
    "ass2 = {\n",
    "    'assID' : [1,2,3],\n",
    "    'status' : ['No','No','No'],\n",
    "    'dep' : [2,4,6],\n",
    "    'deadline' : [datetime.datetime(2020, 9, 6),\n",
    "                  datetime.datetime(2020, 9, 23),\n",
    "                  datetime.datetime(2020, 9, 30)]\n",
    "}\n",
    "ass3 = {\n",
    "    'assID' : [1,2,3],\n",
    "    'status' : ['No','No','No'],\n",
    "    'dep' : [1,3,8],\n",
    "    'deadline' : [datetime.datetime(2020, 9, 17),\n",
    "                  datetime.datetime(2020, 10, 2),\n",
    "                  datetime.datetime(2020, 10, 17)]\n",
    "}\n",
    "ass4 = {\n",
    "    'assID' : [1,2,3],\n",
    "    'status' : ['No','No','No'],\n",
    "    'dep' : [2,5,6],\n",
    "    'deadline' : [datetime.datetime(2020, 9, 11),\n",
    "                  datetime.datetime(2020, 9, 17),\n",
    "                  datetime.datetime(2020, 10, 28)]\n",
    "}\n",
    "\n",
    "a1 = pd.DataFrame(ass1, columns=['assID','status','dep', 'deadline'])\n",
    "a2 = pd.DataFrame(ass2, columns=['assID','status','dep', 'deadline'])\n",
    "a3 = pd.DataFrame(ass3, columns=['assID','status','dep', 'deadline'])\n",
    "a4 = pd.DataFrame(ass4, columns=['assID','status','dep', 'deadline'])\n",
    "\n",
    "cdf['assgnmts'] = [ass1, ass2, ass3, ass4]"
   ]
  },
  {
   "cell_type": "code",
   "execution_count": 12,
   "metadata": {},
   "outputs": [
    {
     "name": "stdout",
     "output_type": "stream",
     "text": [
      "2020-09-04 23:50:01.593457\n"
     ]
    }
   ],
   "source": [
    "x = datetime.datetime.now()\n",
    "print(x)"
   ]
  },
  {
   "cell_type": "code",
   "execution_count": 13,
   "metadata": {},
   "outputs": [
    {
     "name": "stdout",
     "output_type": "stream",
     "text": [
      "No\n"
     ]
    }
   ],
   "source": [
    "#for each in a1:\n",
    " #   print(each)\n",
    "print(a1.iloc[2]['status'])"
   ]
  },
  {
   "cell_type": "code",
   "execution_count": 14,
   "metadata": {},
   "outputs": [
    {
     "data": {
      "text/html": [
       "<div>\n",
       "<style scoped>\n",
       "    .dataframe tbody tr th:only-of-type {\n",
       "        vertical-align: middle;\n",
       "    }\n",
       "\n",
       "    .dataframe tbody tr th {\n",
       "        vertical-align: top;\n",
       "    }\n",
       "\n",
       "    .dataframe thead th {\n",
       "        text-align: right;\n",
       "    }\n",
       "</style>\n",
       "<table border=\"1\" class=\"dataframe\">\n",
       "  <thead>\n",
       "    <tr style=\"text-align: right;\">\n",
       "      <th></th>\n",
       "      <th>assID</th>\n",
       "      <th>status</th>\n",
       "      <th>dep</th>\n",
       "      <th>deadline</th>\n",
       "    </tr>\n",
       "  </thead>\n",
       "  <tbody>\n",
       "    <tr>\n",
       "      <th>0</th>\n",
       "      <td>1</td>\n",
       "      <td>No</td>\n",
       "      <td>2</td>\n",
       "      <td>2020-09-12</td>\n",
       "    </tr>\n",
       "    <tr>\n",
       "      <th>1</th>\n",
       "      <td>2</td>\n",
       "      <td>No</td>\n",
       "      <td>5</td>\n",
       "      <td>2020-09-25</td>\n",
       "    </tr>\n",
       "    <tr>\n",
       "      <th>2</th>\n",
       "      <td>3</td>\n",
       "      <td>No</td>\n",
       "      <td>7</td>\n",
       "      <td>2020-10-01</td>\n",
       "    </tr>\n",
       "  </tbody>\n",
       "</table>\n",
       "</div>"
      ],
      "text/plain": [
       "   assID status  dep   deadline\n",
       "0      1     No    2 2020-09-12\n",
       "1      2     No    5 2020-09-25\n",
       "2      3     No    7 2020-10-01"
      ]
     },
     "execution_count": 14,
     "metadata": {},
     "output_type": "execute_result"
    }
   ],
   "source": [
    "a1"
   ]
  },
  {
   "cell_type": "code",
   "execution_count": 15,
   "metadata": {},
   "outputs": [],
   "source": [
    "if x.strftime(\"%A\") not in ['Sunday']:\n",
    "    # working_time <= 6-7 hrs\n",
    "    # assume each lecture is 1 hr long\n",
    "    # assume each assignment takes 1 hr\n",
    "    stack1 = []\n",
    "    for each in a1['assID']:\n",
    "        if a1.iloc[each-1]['status']=='No':\n",
    "            stack1.append((a1.iloc[each-1]['deadline'] - x).days)\n",
    "    stack2 = []\n",
    "    for each in a2['assID']:\n",
    "        if a2.iloc[each-1]['status']=='No':\n",
    "            stack2.append((a2.iloc[each-1]['deadline'] - x).days)\n",
    "    stack3 = []\n",
    "    for each in a3['assID']:\n",
    "        if a3.iloc[each-1]['status']=='No':\n",
    "            stack3.append((a3.iloc[each-1]['deadline'] - x).days)\n",
    "    stack4 = []\n",
    "    for each in a4['assID']:\n",
    "        if a4.iloc[each-1]['status']=='No':\n",
    "            stack4.append((a4.iloc[each-1]['deadline'] - x).days)"
   ]
  },
  {
   "cell_type": "code",
   "execution_count": 16,
   "metadata": {},
   "outputs": [
    {
     "name": "stdout",
     "output_type": "stream",
     "text": [
      "[7, 20, 26]\n",
      "[1, 18, 25]\n",
      "[12, 27, 42]\n",
      "[6, 12, 53]\n"
     ]
    }
   ],
   "source": [
    "print(stack1)\n",
    "print(stack2)\n",
    "print(stack3)\n",
    "print(stack4)"
   ]
  },
  {
   "cell_type": "code",
   "execution_count": 17,
   "metadata": {},
   "outputs": [],
   "source": [
    "workstack = []"
   ]
  },
  {
   "cell_type": "code",
   "execution_count": 18,
   "metadata": {},
   "outputs": [],
   "source": [
    "count = 0\n",
    "while True:\n",
    "    for i in range(len(stack1)):\n",
    "        if stack1[i] == count:\n",
    "            workstack.append((1,a1.iloc[i]['dep'],stack1[i]))\n",
    "    for i in range(len(stack2)):\n",
    "        if stack2[i] == count:\n",
    "            workstack.append((2,a2.iloc[i]['dep'],stack2[i]))\n",
    "    for i in range(len(stack3)):\n",
    "        if stack3[i] == count:\n",
    "            workstack.append((3,a3.iloc[i]['dep'],stack3[i]))\n",
    "    for i in range(len(stack4)):\n",
    "        if stack4[i] == count:\n",
    "            workstack.append((4,a4.iloc[i]['dep'],stack4[i]))\n",
    "    if len(workstack) > 6:\n",
    "        break\n",
    "    else:\n",
    "        count += 1"
   ]
  },
  {
   "cell_type": "code",
   "execution_count": 19,
   "metadata": {},
   "outputs": [
    {
     "name": "stdout",
     "output_type": "stream",
     "text": [
      "    ID Name   Prof                                             videos  \\\n",
      "0  ID1   S1  Dr. A  {'videoID': [1, 2, 3, 4, 5, 6, 7, 8], 'status'...   \n",
      "1  ID2   S2  Dr. B  {'videoID': [1, 2, 3, 4, 5, 6, 7, 8], 'status'...   \n",
      "2  ID3   S3  Dr. C  {'videoID': [1, 2, 3, 4, 5, 6, 7, 8], 'status'...   \n",
      "3  ID4   S4  Dr. D  {'videoID': [1, 2, 3, 4, 5, 6, 7, 8], 'status'...   \n",
      "\n",
      "                                            assgnmts  \n",
      "0  {'assID': [1, 2, 3], 'status': ['No', 'No', 'N...  \n",
      "1  {'assID': [1, 2, 3], 'status': ['No', 'No', 'N...  \n",
      "2  {'assID': [1, 2, 3], 'status': ['No', 'No', 'N...  \n",
      "3  {'assID': [1, 2, 3], 'status': ['No', 'No', 'N...  \n"
     ]
    }
   ],
   "source": [
    "print(cdf)"
   ]
  },
  {
   "cell_type": "code",
   "execution_count": 20,
   "metadata": {},
   "outputs": [
    {
     "data": {
      "text/plain": [
       "[(2, 2, 1),\n",
       " (4, 2, 6),\n",
       " (1, 2, 7),\n",
       " (3, 1, 12),\n",
       " (4, 5, 12),\n",
       " (2, 4, 18),\n",
       " (1, 5, 20)]"
      ]
     },
     "execution_count": 20,
     "metadata": {},
     "output_type": "execute_result"
    }
   ],
   "source": [
    "workstack\n",
    "# Ist = course number\n",
    "# 2nd = dependency on lecture no.\n",
    "# 3rd = no. of days left"
   ]
  },
  {
   "cell_type": "code",
   "execution_count": 27,
   "metadata": {},
   "outputs": [
    {
     "name": "stdout",
     "output_type": "stream",
     "text": [
      "[]\n"
     ]
    }
   ],
   "source": [
    "tasks = []\n",
    "for i,j,k in workstack:\n",
    "    if k==0:\n",
    "        # do task immediately\n",
    "        seq = cdf.iloc[i-1]['videos']['status']\n",
    "        for l in range(j):\n",
    "            if seq[l] == 'No':\n",
    "                tasks.append((i,l+1))\n",
    "        print(seq)\n",
    "print(tasks)"
   ]
  },
  {
   "cell_type": "code",
   "execution_count": 29,
   "metadata": {},
   "outputs": [
    {
     "name": "stdout",
     "output_type": "stream",
     "text": [
      "[(2, 1), (2, 2), (4, 1), (4, 2), (1, 1), (1, 2), (3, 1), (4, 1), (4, 2), (4, 3), (4, 4), (4, 5), (2, 1), (2, 2)]\n"
     ]
    }
   ],
   "source": [
    "# fill the tasks list\n",
    "for i,j,k in workstack:\n",
    "    seq = cdf.iloc[i-1]['videos']['status']\n",
    "    for l in range(j):\n",
    "        if seq[l] == 'No':\n",
    "            tasks.append((i,l+1))\n",
    "    if len(tasks)>7:\n",
    "        break\n",
    "print(tasks)\n",
    "# tasks 1st element = course number\n",
    "# tasks 2nd element = lecture number"
   ]
  },
  {
   "cell_type": "code",
   "execution_count": null,
   "metadata": {},
   "outputs": [],
   "source": []
  }
 ],
 "metadata": {
  "kernelspec": {
   "display_name": "Python 3",
   "language": "python",
   "name": "python3"
  },
  "language_info": {
   "codemirror_mode": {
    "name": "ipython",
    "version": 3
   },
   "file_extension": ".py",
   "mimetype": "text/x-python",
   "name": "python",
   "nbconvert_exporter": "python",
   "pygments_lexer": "ipython3",
   "version": "3.7.3"
  }
 },
 "nbformat": 4,
 "nbformat_minor": 4
}
