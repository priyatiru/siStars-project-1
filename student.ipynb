{
 "cells": [
  {
   "cell_type": "code",
   "execution_count": null,
   "metadata": {},
   "outputs": [],
   "source": [
    "# pip install ipynb"
   ]
  },
  {
   "cell_type": "code",
   "execution_count": null,
   "metadata": {},
   "outputs": [],
   "source": [
    "# from ipynb.fs.full.myAdmin import create_connection, view_course_details, select_all_asgnmts, select_all_videos"
   ]
  },
  {
   "cell_type": "code",
   "execution_count": 1,
   "metadata": {},
   "outputs": [],
   "source": [
    "import sqlite3\n",
    "from sqlite3 import Error\n",
    "import datetime\n",
    "import pandas as pd"
   ]
  },
  {
   "cell_type": "code",
   "execution_count": 2,
   "metadata": {},
   "outputs": [],
   "source": [
    "def create_connection(db_file):\n",
    "    \"\"\" create a database connection to the SQLite database\n",
    "        specified by the db_file\n",
    "    :param db_file: database file\n",
    "    :return: Connection object or None\n",
    "    \"\"\"\n",
    "    conn = None\n",
    "    try:\n",
    "        conn = sqlite3.connect(db_file)\n",
    "    except Error as e:\n",
    "        print(e)\n",
    "\n",
    "    return conn"
   ]
  },
  {
   "cell_type": "code",
   "execution_count": 3,
   "metadata": {},
   "outputs": [],
   "source": [
    "def view_course_details(conn):\n",
    "    cur = conn.cursor()\n",
    "    \n",
    "    sqlstr = \"SELECT * FROM Course\"\n",
    "    details = {'iD':[], 'name':[], 'prof':[]}\n",
    "    for row in cur.execute(sqlstr):\n",
    "        details['iD'].append(row[0])\n",
    "        details['name'].append(row[1])\n",
    "        details['prof'].append(row[2])\n",
    "    return details"
   ]
  },
  {
   "cell_type": "code",
   "execution_count": 7,
   "metadata": {},
   "outputs": [],
   "source": [
    "def select_all_asgnmts(conn, course_num):\n",
    "    \"\"\"\n",
    "    Query all rows in the tasks table\n",
    "    :param conn: the Connection object\n",
    "    :return:\n",
    "    \"\"\"\n",
    "    cur = conn.cursor()\n",
    "    details = {'assID':[], 'status':[], 'dep':[], 'deadline':[]}\n",
    "    for row in cur.execute(\"SELECT * FROM Ass\"+str(course_num)):\n",
    "        details['assID'].append(row[0])\n",
    "        details['status'].append(row[1])\n",
    "        details['dep'].append(row[2])\n",
    "        row3 = row[3].split('-')\n",
    "        d = int(row3[2].split(' ')[0])\n",
    "        m = int(row3[1])\n",
    "        y = int(row3[0])\n",
    "        date = datetime.datetime(y,m,d)\n",
    "        details['deadline'].append(date)\n",
    "    return details"
   ]
  },
  {
   "cell_type": "code",
   "execution_count": 8,
   "metadata": {},
   "outputs": [],
   "source": [
    "database = r\"mydb.db\"\n",
    "conn = create_connection(database)"
   ]
  },
  {
   "cell_type": "code",
   "execution_count": 9,
   "metadata": {},
   "outputs": [
    {
     "data": {
      "text/plain": [
       "{'assID': [1, 2],\n",
       " 'status': ['No', 'No'],\n",
       " 'dep': [2, 4],\n",
       " 'deadline': [datetime.datetime(2020, 9, 10, 0, 0),\n",
       "  datetime.datetime(2020, 9, 11, 0, 0)]}"
      ]
     },
     "execution_count": 9,
     "metadata": {},
     "output_type": "execute_result"
    }
   ],
   "source": [
    "select_all_asgnmts(conn, 1)"
   ]
  },
  {
   "cell_type": "code",
   "execution_count": 10,
   "metadata": {},
   "outputs": [],
   "source": [
    "def select_all_videos(conn, course_num):\n",
    "    cur = conn.cursor()\n",
    "    details = {'ID':[], 'status':[]}\n",
    "    for row in cur.execute(\"SELECT * FROM Vid\"+str(course_num)):\n",
    "        details['ID'].append(row[0])\n",
    "        details['status'].append(row[1])\n",
    "    return details"
   ]
  },
  {
   "cell_type": "code",
   "execution_count": 11,
   "metadata": {},
   "outputs": [],
   "source": [
    "courses = view_course_details(conn)"
   ]
  },
  {
   "cell_type": "code",
   "execution_count": 12,
   "metadata": {},
   "outputs": [],
   "source": [
    "cdf = pd.DataFrame(courses, columns=['iD','name','prof'])"
   ]
  },
  {
   "cell_type": "code",
   "execution_count": 13,
   "metadata": {},
   "outputs": [
    {
     "data": {
      "text/html": [
       "<div>\n",
       "<style scoped>\n",
       "    .dataframe tbody tr th:only-of-type {\n",
       "        vertical-align: middle;\n",
       "    }\n",
       "\n",
       "    .dataframe tbody tr th {\n",
       "        vertical-align: top;\n",
       "    }\n",
       "\n",
       "    .dataframe thead th {\n",
       "        text-align: right;\n",
       "    }\n",
       "</style>\n",
       "<table border=\"1\" class=\"dataframe\">\n",
       "  <thead>\n",
       "    <tr style=\"text-align: right;\">\n",
       "      <th></th>\n",
       "      <th>iD</th>\n",
       "      <th>name</th>\n",
       "      <th>prof</th>\n",
       "    </tr>\n",
       "  </thead>\n",
       "  <tbody>\n",
       "    <tr>\n",
       "      <th>0</th>\n",
       "      <td>1</td>\n",
       "      <td>S1</td>\n",
       "      <td>Mr. A</td>\n",
       "    </tr>\n",
       "    <tr>\n",
       "      <th>1</th>\n",
       "      <td>2</td>\n",
       "      <td>S2</td>\n",
       "      <td>Mrs. B</td>\n",
       "    </tr>\n",
       "    <tr>\n",
       "      <th>2</th>\n",
       "      <td>3</td>\n",
       "      <td>S3</td>\n",
       "      <td>Ms. C</td>\n",
       "    </tr>\n",
       "    <tr>\n",
       "      <th>3</th>\n",
       "      <td>4</td>\n",
       "      <td>S4</td>\n",
       "      <td>Mr. D</td>\n",
       "    </tr>\n",
       "  </tbody>\n",
       "</table>\n",
       "</div>"
      ],
      "text/plain": [
       "   iD name    prof\n",
       "0   1   S1   Mr. A\n",
       "1   2   S2  Mrs. B\n",
       "2   3   S3   Ms. C\n",
       "3   4   S4   Mr. D"
      ]
     },
     "execution_count": 13,
     "metadata": {},
     "output_type": "execute_result"
    }
   ],
   "source": [
    "cdf"
   ]
  },
  {
   "cell_type": "code",
   "execution_count": 14,
   "metadata": {},
   "outputs": [],
   "source": [
    "course1 = select_all_videos(conn, 1)\n",
    "course2 = select_all_videos(conn, 2)\n",
    "course3 = select_all_videos(conn, 3)\n",
    "course4 = select_all_videos(conn, 4)"
   ]
  },
  {
   "cell_type": "code",
   "execution_count": 15,
   "metadata": {},
   "outputs": [],
   "source": [
    "cdf['videos'] = [course1, course2, course3, course4]"
   ]
  },
  {
   "cell_type": "code",
   "execution_count": 16,
   "metadata": {},
   "outputs": [],
   "source": [
    "ass1 = select_all_asgnmts(conn, 1)\n",
    "ass2 = select_all_asgnmts(conn, 2)\n",
    "ass3 = select_all_asgnmts(conn, 3)\n",
    "ass4 = select_all_asgnmts(conn, 4)"
   ]
  },
  {
   "cell_type": "code",
   "execution_count": 17,
   "metadata": {},
   "outputs": [],
   "source": [
    "a1 = pd.DataFrame(ass1, columns=['assID','status','dep', 'deadline'])\n",
    "a2 = pd.DataFrame(ass2, columns=['assID','status','dep', 'deadline'])\n",
    "a3 = pd.DataFrame(ass3, columns=['assID','status','dep', 'deadline'])\n",
    "a4 = pd.DataFrame(ass4, columns=['assID','status','dep', 'deadline'])\n",
    "\n",
    "cdf['assgnmts'] = [ass1, ass2, ass3, ass4]"
   ]
  },
  {
   "cell_type": "code",
   "execution_count": 18,
   "metadata": {},
   "outputs": [
    {
     "name": "stdout",
     "output_type": "stream",
     "text": [
      "2020-09-05 21:50:58.756235\n"
     ]
    }
   ],
   "source": [
    "x = datetime.datetime.now()\n",
    "print(x)"
   ]
  },
  {
   "cell_type": "code",
   "execution_count": 19,
   "metadata": {},
   "outputs": [
    {
     "name": "stdout",
     "output_type": "stream",
     "text": [
      "Course1 [4, 5]\n",
      "Course2 []\n",
      "Course3 []\n",
      "Course4 []\n"
     ]
    }
   ],
   "source": [
    "stack1 = []\n",
    "for each in a1['assID']:\n",
    "    if a1.iloc[each-1]['status']=='No':\n",
    "        stack1.append((a1.iloc[each-1]['deadline'] - x).days)\n",
    "stack2 = []\n",
    "for each in a2['assID']:\n",
    "    if a2.iloc[each-1]['status']=='No':\n",
    "        stack2.append((a2.iloc[each-1]['deadline'] - x).days)\n",
    "stack3 = []\n",
    "for each in a3['assID']:\n",
    "    if a3.iloc[each-1]['status']=='No':\n",
    "        stack3.append((a3.iloc[each-1]['deadline'] - x).days)\n",
    "stack4 = []\n",
    "for each in a4['assID']:\n",
    "    if a4.iloc[each-1]['status']=='No':\n",
    "        stack4.append((a4.iloc[each-1]['deadline'] - x).days)\n",
    "\n",
    "print('Course1',stack1)\n",
    "print('Course2',stack2)\n",
    "print('Course3',stack3)\n",
    "print('Course4',stack4)"
   ]
  },
  {
   "cell_type": "code",
   "execution_count": 40,
   "metadata": {},
   "outputs": [
    {
     "name": "stdout",
     "output_type": "stream",
     "text": [
      "[(1, 2, 4, 1), (1, 4, 5, 2)]\n"
     ]
    }
   ],
   "source": [
    "workstack = []\n",
    "\n",
    "if x.strftime(\"%A\") in ['Sunday']:\n",
    "    # search late pending works\n",
    "    for i in range(len(stack1)):\n",
    "        if stack1[i] <= 0:\n",
    "            workstack.append((1,a1.iloc[i]['dep'],stack1[i],i+1))\n",
    "    for i in range(len(stack2)):\n",
    "        if stack2[i] <= 0:\n",
    "            workstack.append((2,a2.iloc[i]['dep'],stack2[i],i+1))\n",
    "    for i in range(len(stack3)):\n",
    "        if stack3[i] <= 0:\n",
    "            workstack.append((3,a3.iloc[i]['dep'],stack3[i],i+1))\n",
    "    for i in range(len(stack4)):\n",
    "        if stack4[i] <= 0:\n",
    "            workstack.append((4,a4.iloc[i]['dep'],stack4[i],i+1))\n",
    "                \n",
    "else:\n",
    "    count = 0\n",
    "    size = stack1 + stack2 + stack3 + stack4\n",
    "    for _ in range(max(size)+1):\n",
    "        for i in range(len(stack1)):\n",
    "            if stack1[i] == count:\n",
    "                workstack.append((1,a1.iloc[i]['dep'],stack1[i],i+1))\n",
    "        for i in range(len(stack2)):\n",
    "            if stack2[i] == count:\n",
    "                workstack.append((2,a2.iloc[i]['dep'],stack2[i],i+1))\n",
    "        for i in range(len(stack3)):\n",
    "            if stack3[i] == count:\n",
    "                workstack.append((3,a3.iloc[i]['dep'],stack3[i],i+1))\n",
    "        for i in range(len(stack4)):\n",
    "            if stack4[i] == count:\n",
    "                workstack.append((4,a4.iloc[i]['dep'],stack4[i],i+1))\n",
    "        count += 1\n",
    "            \n",
    "print(workstack)\n",
    "# Ist = course number\n",
    "# 2nd = dependency on lecture no.\n",
    "# 3rd = no. of days left\n",
    "# 4th = assignment number"
   ]
  },
  {
   "cell_type": "code",
   "execution_count": 43,
   "metadata": {},
   "outputs": [
    {
     "name": "stdout",
     "output_type": "stream",
     "text": [
      "[]\n"
     ]
    },
    {
     "ename": "IndexError",
     "evalue": "list index out of range",
     "output_type": "error",
     "traceback": [
      "\u001b[1;31m---------------------------------------------------------------------------\u001b[0m",
      "\u001b[1;31mIndexError\u001b[0m                                Traceback (most recent call last)",
      "\u001b[1;32m<ipython-input-43-e94433c351d5>\u001b[0m in \u001b[0;36m<module>\u001b[1;34m\u001b[0m\n\u001b[0;32m     15\u001b[0m     \u001b[0mseq\u001b[0m \u001b[1;33m=\u001b[0m \u001b[0mcdf\u001b[0m\u001b[1;33m.\u001b[0m\u001b[0miloc\u001b[0m\u001b[1;33m[\u001b[0m\u001b[0mi\u001b[0m\u001b[1;33m-\u001b[0m\u001b[1;36m1\u001b[0m\u001b[1;33m]\u001b[0m\u001b[1;33m[\u001b[0m\u001b[1;34m'videos'\u001b[0m\u001b[1;33m]\u001b[0m\u001b[1;33m[\u001b[0m\u001b[1;34m'status'\u001b[0m\u001b[1;33m]\u001b[0m\u001b[1;33m\u001b[0m\u001b[1;33m\u001b[0m\u001b[0m\n\u001b[0;32m     16\u001b[0m     \u001b[1;32mfor\u001b[0m \u001b[0ml\u001b[0m \u001b[1;32min\u001b[0m \u001b[0mrange\u001b[0m\u001b[1;33m(\u001b[0m\u001b[0mj\u001b[0m\u001b[1;33m)\u001b[0m\u001b[1;33m:\u001b[0m\u001b[1;33m\u001b[0m\u001b[1;33m\u001b[0m\u001b[0m\n\u001b[1;32m---> 17\u001b[1;33m         \u001b[1;32mif\u001b[0m \u001b[0mseq\u001b[0m\u001b[1;33m[\u001b[0m\u001b[0ml\u001b[0m\u001b[1;33m]\u001b[0m \u001b[1;33m==\u001b[0m \u001b[1;34m'No'\u001b[0m\u001b[1;33m:\u001b[0m\u001b[1;33m\u001b[0m\u001b[1;33m\u001b[0m\u001b[0m\n\u001b[0m\u001b[0;32m     18\u001b[0m             \u001b[0mtasks\u001b[0m\u001b[1;33m.\u001b[0m\u001b[0mappend\u001b[0m\u001b[1;33m(\u001b[0m\u001b[1;33m(\u001b[0m\u001b[0mi\u001b[0m\u001b[1;33m,\u001b[0m\u001b[0ml\u001b[0m\u001b[1;33m+\u001b[0m\u001b[1;36m1\u001b[0m\u001b[1;33m,\u001b[0m\u001b[0mm\u001b[0m\u001b[1;33m)\u001b[0m\u001b[1;33m)\u001b[0m\u001b[1;33m\u001b[0m\u001b[1;33m\u001b[0m\u001b[0m\n\u001b[0;32m     19\u001b[0m \u001b[0mprint\u001b[0m\u001b[1;33m(\u001b[0m\u001b[0mtasks\u001b[0m\u001b[1;33m)\u001b[0m\u001b[1;33m\u001b[0m\u001b[1;33m\u001b[0m\u001b[0m\n",
      "\u001b[1;31mIndexError\u001b[0m: list index out of range"
     ]
    }
   ],
   "source": [
    "tasks = []\n",
    "for i,j,k,m in workstack:\n",
    "    if k==0:\n",
    "        # do task immediately\n",
    "        seq = cdf.iloc[i-1]['videos']['status']\n",
    "        for l in range(j):\n",
    "            if seq[l] == 'No':\n",
    "                tasks.append((i,l+1,m))\n",
    "        print(seq)\n",
    "print(tasks)\n",
    "\n",
    "\n",
    "# fill the tasks list\n",
    "for i,j,k,m in workstack:\n",
    "    seq = cdf.iloc[i-1]['videos']['status']\n",
    "    for l in range(j):\n",
    "        if seq[l] == 'No':\n",
    "            tasks.append((i,l+1,m))\n",
    "print(tasks)\n",
    "# tasks 1st element = course number\n",
    "# tasks 2nd element = lecture number\n",
    "# tasks 3rd element = Assignmet number\n",
    "\n",
    "numoftasks = int(input('Enter no. of tasks: '))\n",
    "tasks = tasks[:numoftasks+1]\n",
    "if len(tasks)==0:\n",
    "    print('Hurray! No work!')\n",
    "else:\n",
    "    print(tasks)"
   ]
  },
  {
   "cell_type": "code",
   "execution_count": 24,
   "metadata": {},
   "outputs": [],
   "source": [
    "def watch_video(conn, course_num, lecture_num):\n",
    "    cur = conn.cursor()\n",
    "    cur.execute('UPDATE Vid'+str(course_num)+' SET status=\"YES\" WHERE ID=?',(lecture_num,))\n",
    "    conn.commit()\n",
    "    print('Watched: Course',course_num,'Lecture',lecture_num)"
   ]
  },
  {
   "cell_type": "code",
   "execution_count": 44,
   "metadata": {},
   "outputs": [],
   "source": [
    "def do_assignment(conn, course_num, ass_num):\n",
    "    cur = conn.cursor()\n",
    "    cur.execute('UPDATE Ass'+str(course_num)+' SET status=\"YES\" WHERE assID=?',(ass_num,))\n",
    "    conn.commit()\n",
    "    print('Done: Course',course_num,'Assignment',ass_num)"
   ]
  },
  {
   "cell_type": "code",
   "execution_count": 25,
   "metadata": {},
   "outputs": [
    {
     "name": "stdout",
     "output_type": "stream",
     "text": [
      "Watched: Course 1 Lecture 1\n"
     ]
    }
   ],
   "source": [
    "#watch_video(conn, 1, 1)"
   ]
  },
  {
   "cell_type": "code",
   "execution_count": 45,
   "metadata": {},
   "outputs": [],
   "source": [
    "#do_assignment(con, 1, 2)"
   ]
  },
  {
   "cell_type": "code",
   "execution_count": null,
   "metadata": {},
   "outputs": [],
   "source": []
  }
 ],
 "metadata": {
  "kernelspec": {
   "display_name": "Python 3",
   "language": "python",
   "name": "python3"
  },
  "language_info": {
   "codemirror_mode": {
    "name": "ipython",
    "version": 3
   },
   "file_extension": ".py",
   "mimetype": "text/x-python",
   "name": "python",
   "nbconvert_exporter": "python",
   "pygments_lexer": "ipython3",
   "version": "3.7.3"
  }
 },
 "nbformat": 4,
 "nbformat_minor": 4
}
