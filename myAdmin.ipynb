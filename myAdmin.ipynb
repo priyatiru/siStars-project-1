{
 "cells": [
  {
   "cell_type": "code",
   "execution_count": 4,
   "metadata": {},
   "outputs": [],
   "source": [
    "import sqlite3\n",
    "from sqlite3 import Error\n",
    "from datetime import datetime"
   ]
  },
  {
   "cell_type": "code",
   "execution_count": 5,
   "metadata": {},
   "outputs": [],
   "source": [
    "def create_connection(db_file):\n",
    "    \"\"\" create a database connection to the SQLite database\n",
    "        specified by the db_file\n",
    "    :param db_file: database file\n",
    "    :return: Connection object or None\n",
    "    \"\"\"\n",
    "    conn = None\n",
    "    try:\n",
    "        conn = sqlite3.connect(db_file)\n",
    "    except Error as e:\n",
    "        print(e)\n",
    "\n",
    "    return conn"
   ]
  },
  {
   "cell_type": "code",
   "execution_count": 13,
   "metadata": {},
   "outputs": [],
   "source": [
    "def view_course_details(conn):\n",
    "    cur = conn.cursor()\n",
    "    \n",
    "    sqlstr = \"SELECT * FROM Course\"\n",
    "    details = {'iD':[], 'name':[], 'prof':[]}\n",
    "    for row in cur.execute(sqlstr):\n",
    "        details['iD'].append(row[0])\n",
    "        details['name'].append(row[1])\n",
    "        details['prof'].append(row[2])\n",
    "    return details"
   ]
  },
  {
   "cell_type": "code",
   "execution_count": 7,
   "metadata": {},
   "outputs": [],
   "source": [
    "def select_all_asgnmts(conn, course_num):\n",
    "    \"\"\"\n",
    "    Query all rows in the tasks table\n",
    "    :param conn: the Connection object\n",
    "    :return:\n",
    "    \"\"\"\n",
    "    cur = conn.cursor()\n",
    "    details = {'assID':[], 'status':[], 'dep':[], 'deadline':[]}\n",
    "    for row in cur.execute(\"SELECT * FROM Ass\"+str(course_num)):\n",
    "        details['assID'].append(row[0])\n",
    "        details['status'].append(row[1])\n",
    "        details['dep'].append(row[2])\n",
    "        details['deadline'].append(row[3])\n",
    "    return details"
   ]
  },
  {
   "cell_type": "code",
   "execution_count": 8,
   "metadata": {},
   "outputs": [],
   "source": [
    "def select_all_videos(conn, course_num):\n",
    "    cur = conn.cursor()\n",
    "    details = {'ID':[], 'status':[]}\n",
    "    for row in cur.execute(\"SELECT * FROM Vid\"+str(course_num)):\n",
    "        details['ID'].append(row[0])\n",
    "        details['status'].append(row[1])\n",
    "    return details"
   ]
  },
  {
   "cell_type": "code",
   "execution_count": 9,
   "metadata": {},
   "outputs": [],
   "source": [
    "def add_to_videos(conn, course_num, status=\"No\"):\n",
    "    iD = len(select_all_videos(conn, course_num)['ID'])+1\n",
    "    cur = conn.cursor()\n",
    "    cur.execute('INSERT INTO Vid'+str(course_num)+' (ID, status) VALUES (?,?)',(iD, status))\n",
    "    conn.commit()\n",
    "    print('Done')"
   ]
  },
  {
   "cell_type": "code",
   "execution_count": 10,
   "metadata": {},
   "outputs": [],
   "source": [
    "def add_to_assignments(conn, course_num, status=\"No\"):\n",
    "    dep = int(input('Enter dependency: '))\n",
    "    deadline = datetime.strptime(input('Enter Deadline Date as DDMMYYYY: '), '%d%m%Y')\n",
    "    iD = len(select_all_asgnmts(conn, course_num)['assID'])+1\n",
    "    status=\"No\"\n",
    "    cur = conn.cursor()\n",
    "    cur.execute('INSERT INTO Ass'+str(course_num)+' (assID, status, dep, deadline) VALUES (?,?,?,?)',(iD, status, dep, deadline))\n",
    "    conn.commit()\n",
    "    print('Done')"
   ]
  },
  {
   "cell_type": "code",
   "execution_count": 121,
   "metadata": {},
   "outputs": [
    {
     "name": "stdout",
     "output_type": "stream",
     "text": [
      "Done\n"
     ]
    }
   ],
   "source": [
    "add_to_videos(conn, course_num=1)"
   ]
  },
  {
   "cell_type": "code",
   "execution_count": 130,
   "metadata": {},
   "outputs": [
    {
     "name": "stdout",
     "output_type": "stream",
     "text": [
      "Enter dependency: 4\n",
      "Enter Deadline Date as DDMMYYYY: 11092020\n",
      "Done\n"
     ]
    }
   ],
   "source": [
    "add_to_assignments(conn, course_num=1)"
   ]
  },
  {
   "cell_type": "code",
   "execution_count": 14,
   "metadata": {},
   "outputs": [
    {
     "name": "stdout",
     "output_type": "stream",
     "text": [
      "Assignments\n",
      "{'assID': [1, 2], 'status': ['No', 'No'], 'dep': [2, 4], 'deadline': ['2020-09-10 00:00:00', '2020-09-11 00:00:00']}\n",
      "Videos\n",
      "{'ID': [1], 'status': ['No']}\n",
      "Assignments\n",
      "{'assID': [], 'status': [], 'dep': [], 'deadline': []}\n",
      "Videos\n",
      "{'ID': [1], 'status': ['No']}\n",
      "Assignments\n",
      "{'assID': [], 'status': [], 'dep': [], 'deadline': []}\n",
      "Videos\n",
      "{'ID': [1, 2, 3, 4, 5, 6], 'status': ['No', 'No', 'No', 'No', 'No', 'No']}\n",
      "Assignments\n",
      "{'assID': [], 'status': [], 'dep': [], 'deadline': []}\n",
      "Videos\n",
      "{'ID': [], 'status': []}\n"
     ]
    }
   ],
   "source": [
    "database = r\"mydb.db\"\n",
    "# create a database connection\n",
    "conn = create_connection(database)\n",
    "\n",
    "courses = view_course_details(conn)\n",
    "\n",
    "for each in courses['iD']:\n",
    "    with conn:\n",
    "        print(\"Assignments\")\n",
    "        print(select_all_asgnmts(conn,each))\n",
    "        print(\"Videos\")\n",
    "        print(select_all_videos(conn, each))"
   ]
  },
  {
   "cell_type": "code",
   "execution_count": null,
   "metadata": {},
   "outputs": [],
   "source": []
  }
 ],
 "metadata": {
  "kernelspec": {
   "display_name": "Python 3",
   "language": "python",
   "name": "python3"
  },
  "language_info": {
   "codemirror_mode": {
    "name": "ipython",
    "version": 3
   },
   "file_extension": ".py",
   "mimetype": "text/x-python",
   "name": "python",
   "nbconvert_exporter": "python",
   "pygments_lexer": "ipython3",
   "version": "3.7.3"
  }
 },
 "nbformat": 4,
 "nbformat_minor": 4
}
